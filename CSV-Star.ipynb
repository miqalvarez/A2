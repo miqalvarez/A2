{
 "cells": [
  {
   "cell_type": "markdown",
   "metadata": {},
   "source": [
    "# Star"
   ]
  },
  {
   "cell_type": "markdown",
   "metadata": {},
   "source": [
    "### Read data"
   ]
  },
  {
   "cell_type": "code",
   "execution_count": 13,
   "metadata": {},
   "outputs": [],
   "source": [
    "import pandas as pd\n",
    "import numpy as np\n",
    "import matplotlib.pyplot as plt\n",
    "\n",
    "# Read the different txt files\n",
    "df = pd.read_csv('Star\\star_classification.csv', sep=',')\n"
   ]
  },
  {
   "cell_type": "markdown",
   "metadata": {},
   "source": [
    "### Preprocess"
   ]
  },
  {
   "cell_type": "code",
   "execution_count": 14,
   "metadata": {},
   "outputs": [
    {
     "data": {
      "text/html": [
       "<div>\n",
       "<style scoped>\n",
       "    .dataframe tbody tr th:only-of-type {\n",
       "        vertical-align: middle;\n",
       "    }\n",
       "\n",
       "    .dataframe tbody tr th {\n",
       "        vertical-align: top;\n",
       "    }\n",
       "\n",
       "    .dataframe thead th {\n",
       "        text-align: right;\n",
       "    }\n",
       "</style>\n",
       "<table border=\"1\" class=\"dataframe\">\n",
       "  <thead>\n",
       "    <tr style=\"text-align: right;\">\n",
       "      <th></th>\n",
       "      <th>u</th>\n",
       "      <th>g</th>\n",
       "      <th>r</th>\n",
       "      <th>i</th>\n",
       "      <th>z</th>\n",
       "      <th>redshift</th>\n",
       "      <th>class</th>\n",
       "    </tr>\n",
       "  </thead>\n",
       "  <tbody>\n",
       "    <tr>\n",
       "      <th>66673</th>\n",
       "      <td>20.56999</td>\n",
       "      <td>19.95228</td>\n",
       "      <td>19.72179</td>\n",
       "      <td>19.52817</td>\n",
       "      <td>19.49401</td>\n",
       "      <td>1.424339</td>\n",
       "      <td>0</td>\n",
       "    </tr>\n",
       "    <tr>\n",
       "      <th>71898</th>\n",
       "      <td>23.25022</td>\n",
       "      <td>21.24371</td>\n",
       "      <td>19.52980</td>\n",
       "      <td>18.78666</td>\n",
       "      <td>18.45617</td>\n",
       "      <td>0.364914</td>\n",
       "      <td>1</td>\n",
       "    </tr>\n",
       "    <tr>\n",
       "      <th>68271</th>\n",
       "      <td>21.72928</td>\n",
       "      <td>21.53574</td>\n",
       "      <td>21.48312</td>\n",
       "      <td>20.97058</td>\n",
       "      <td>20.83160</td>\n",
       "      <td>1.967160</td>\n",
       "      <td>0</td>\n",
       "    </tr>\n",
       "    <tr>\n",
       "      <th>98225</th>\n",
       "      <td>20.44461</td>\n",
       "      <td>18.55954</td>\n",
       "      <td>17.68769</td>\n",
       "      <td>17.28992</td>\n",
       "      <td>16.99859</td>\n",
       "      <td>0.037940</td>\n",
       "      <td>1</td>\n",
       "    </tr>\n",
       "    <tr>\n",
       "      <th>3404</th>\n",
       "      <td>23.48720</td>\n",
       "      <td>22.08427</td>\n",
       "      <td>21.10960</td>\n",
       "      <td>20.23149</td>\n",
       "      <td>19.68878</td>\n",
       "      <td>0.664972</td>\n",
       "      <td>1</td>\n",
       "    </tr>\n",
       "  </tbody>\n",
       "</table>\n",
       "</div>"
      ],
      "text/plain": [
       "              u         g         r         i         z  redshift  class\n",
       "66673  20.56999  19.95228  19.72179  19.52817  19.49401  1.424339      0\n",
       "71898  23.25022  21.24371  19.52980  18.78666  18.45617  0.364914      1\n",
       "68271  21.72928  21.53574  21.48312  20.97058  20.83160  1.967160      0\n",
       "98225  20.44461  18.55954  17.68769  17.28992  16.99859  0.037940      1\n",
       "3404   23.48720  22.08427  21.10960  20.23149  19.68878  0.664972      1"
      ]
     },
     "execution_count": 14,
     "metadata": {},
     "output_type": "execute_result"
    }
   ],
   "source": [
    "# Shuffle the data and save to csv\n",
    "df = df.sample(frac=1)\n",
    "df['class'] = pd.factorize(df['class'])[0]\n",
    "df.drop(['obj_ID','run_ID','rerun_ID','field_ID','fiber_ID'], axis=1, inplace=True)\n",
    "\n",
    "# move the class column to the end\n",
    "df = df[['u','g','r','i','z','redshift','class']]\n",
    "\n",
    "# save to csv\n",
    "df.to_csv('Star\\star.csv', index=False, header=False)\n",
    "\n",
    "df.head()"
   ]
  },
  {
   "cell_type": "markdown",
   "metadata": {},
   "source": [
    "### Plot the data"
   ]
  },
  {
   "cell_type": "code",
   "execution_count": 15,
   "metadata": {},
   "outputs": [],
   "source": [
    "# Plot the data\n",
    "\n"
   ]
  }
 ],
 "metadata": {
  "kernelspec": {
   "display_name": "Python 3",
   "language": "python",
   "name": "python3"
  },
  "language_info": {
   "codemirror_mode": {
    "name": "ipython",
    "version": 3
   },
   "file_extension": ".py",
   "mimetype": "text/x-python",
   "name": "python",
   "nbconvert_exporter": "python",
   "pygments_lexer": "ipython3",
   "version": "3.11.6"
  }
 },
 "nbformat": 4,
 "nbformat_minor": 2
}
