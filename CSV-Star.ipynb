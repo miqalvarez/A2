{
 "cells": [
  {
   "cell_type": "markdown",
   "metadata": {},
   "source": [
    "# Star"
   ]
  },
  {
   "cell_type": "markdown",
   "metadata": {},
   "source": [
    "### Read data"
   ]
  },
  {
   "cell_type": "code",
   "execution_count": 7,
   "metadata": {},
   "outputs": [],
   "source": [
    "import pandas as pd\n",
    "import numpy as np\n",
    "import matplotlib.pyplot as plt\n",
    "\n",
    "# Read the different txt files\n",
    "df = pd.read_csv('Star\\star_classification.csv', sep=',')\n"
   ]
  },
  {
   "cell_type": "markdown",
   "metadata": {},
   "source": [
    "### Preprocess"
   ]
  },
  {
   "cell_type": "code",
   "execution_count": 8,
   "metadata": {},
   "outputs": [
    {
     "data": {
      "text/html": [
       "<div>\n",
       "<style scoped>\n",
       "    .dataframe tbody tr th:only-of-type {\n",
       "        vertical-align: middle;\n",
       "    }\n",
       "\n",
       "    .dataframe tbody tr th {\n",
       "        vertical-align: top;\n",
       "    }\n",
       "\n",
       "    .dataframe thead th {\n",
       "        text-align: right;\n",
       "    }\n",
       "</style>\n",
       "<table border=\"1\" class=\"dataframe\">\n",
       "  <thead>\n",
       "    <tr style=\"text-align: right;\">\n",
       "      <th></th>\n",
       "      <th>u</th>\n",
       "      <th>g</th>\n",
       "      <th>r</th>\n",
       "      <th>i</th>\n",
       "      <th>z</th>\n",
       "      <th>redshift</th>\n",
       "      <th>class</th>\n",
       "    </tr>\n",
       "  </thead>\n",
       "  <tbody>\n",
       "    <tr>\n",
       "      <th>11180</th>\n",
       "      <td>22.20520</td>\n",
       "      <td>21.70538</td>\n",
       "      <td>20.72960</td>\n",
       "      <td>19.46407</td>\n",
       "      <td>18.60965</td>\n",
       "      <td>0.000033</td>\n",
       "      <td>0</td>\n",
       "    </tr>\n",
       "    <tr>\n",
       "      <th>51884</th>\n",
       "      <td>22.09611</td>\n",
       "      <td>21.88446</td>\n",
       "      <td>21.71349</td>\n",
       "      <td>21.37898</td>\n",
       "      <td>21.47463</td>\n",
       "      <td>0.782111</td>\n",
       "      <td>1</td>\n",
       "    </tr>\n",
       "    <tr>\n",
       "      <th>30796</th>\n",
       "      <td>20.21655</td>\n",
       "      <td>19.86180</td>\n",
       "      <td>19.62972</td>\n",
       "      <td>19.60722</td>\n",
       "      <td>19.60508</td>\n",
       "      <td>1.185392</td>\n",
       "      <td>1</td>\n",
       "    </tr>\n",
       "    <tr>\n",
       "      <th>22430</th>\n",
       "      <td>24.42121</td>\n",
       "      <td>22.05689</td>\n",
       "      <td>20.65225</td>\n",
       "      <td>19.82417</td>\n",
       "      <td>19.45404</td>\n",
       "      <td>0.402813</td>\n",
       "      <td>2</td>\n",
       "    </tr>\n",
       "    <tr>\n",
       "      <th>30650</th>\n",
       "      <td>22.78908</td>\n",
       "      <td>22.78103</td>\n",
       "      <td>20.89624</td>\n",
       "      <td>19.73037</td>\n",
       "      <td>19.73917</td>\n",
       "      <td>0.595209</td>\n",
       "      <td>2</td>\n",
       "    </tr>\n",
       "  </tbody>\n",
       "</table>\n",
       "</div>"
      ],
      "text/plain": [
       "              u         g         r         i         z  redshift  class\n",
       "11180  22.20520  21.70538  20.72960  19.46407  18.60965  0.000033      0\n",
       "51884  22.09611  21.88446  21.71349  21.37898  21.47463  0.782111      1\n",
       "30796  20.21655  19.86180  19.62972  19.60722  19.60508  1.185392      1\n",
       "22430  24.42121  22.05689  20.65225  19.82417  19.45404  0.402813      2\n",
       "30650  22.78908  22.78103  20.89624  19.73037  19.73917  0.595209      2"
      ]
     },
     "execution_count": 8,
     "metadata": {},
     "output_type": "execute_result"
    }
   ],
   "source": [
    "# Shuffle the data and save to csv\n",
    "df = df.sample(frac=1)\n",
    "df['class'] = pd.factorize(df['class'])[0]\n",
    "df.drop(['obj_ID','run_ID','rerun_ID','field_ID','fiber_ID'], axis=1, inplace=True)\n",
    "\n",
    "# move the class column to the end\n",
    "df = df[['u','g','r','i','z','redshift','class']]\n",
    "\n",
    "# save to csv\n",
    "df.to_csv('Star\\star.csv', index=False, header=False)\n",
    "\n",
    "df.head()"
   ]
  },
  {
   "cell_type": "markdown",
   "metadata": {},
   "source": [
    "### Plot the data"
   ]
  },
  {
   "cell_type": "code",
   "execution_count": 9,
   "metadata": {},
   "outputs": [],
   "source": [
    "# Plot the data\n",
    "\n"
   ]
  }
 ],
 "metadata": {
  "kernelspec": {
   "display_name": "Python 3",
   "language": "python",
   "name": "python3"
  },
  "language_info": {
   "codemirror_mode": {
    "name": "ipython",
    "version": 3
   },
   "file_extension": ".py",
   "mimetype": "text/x-python",
   "name": "python",
   "nbconvert_exporter": "python",
   "pygments_lexer": "ipython3",
   "version": "3.11.6"
  }
 },
 "nbformat": 4,
 "nbformat_minor": 2
}
